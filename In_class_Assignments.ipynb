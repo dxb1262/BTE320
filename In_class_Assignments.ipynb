{
  "nbformat": 4,
  "nbformat_minor": 0,
  "metadata": {
    "colab": {
      "provenance": [],
      "authorship_tag": "ABX9TyMsAfAg9aCrFg6LCfqPOSNS",
      "include_colab_link": true
    },
    "kernelspec": {
      "name": "python3",
      "display_name": "Python 3"
    },
    "language_info": {
      "name": "python"
    }
  },
  "cells": [
    {
      "cell_type": "markdown",
      "metadata": {
        "id": "view-in-github",
        "colab_type": "text"
      },
      "source": [
        "<a href=\"https://colab.research.google.com/github/dxb1262/BTE320/blob/main/In_class_Assignments.ipynb\" target=\"_parent\"><img src=\"https://colab.research.google.com/assets/colab-badge.svg\" alt=\"Open In Colab\"/></a>"
      ]
    },
    {
      "cell_type": "code",
      "execution_count": null,
      "metadata": {
        "colab": {
          "base_uri": "https://localhost:8080/"
        },
        "id": "AUBlM3PXo8Fx",
        "outputId": "c75834f2-559b-4976-d136-687018c7ac85"
      },
      "outputs": [
        {
          "output_type": "stream",
          "name": "stdout",
          "text": [
            "Entire the radius: 5\n",
            "Enter the height: 3\n",
            "The surface area is:  240\n"
          ]
        }
      ],
      "source": [
        "radius = input(\"Entire the radius: \")\n",
        "height = input(\"Enter the height: \")\n",
        "pi = int(3.14159)\n",
        "x = 2*pi*int(radius)**2+2*pi*int(radius)*int(height)\n",
        "print(\"The surface area is: \",x)"
      ]
    },
    {
      "cell_type": "code",
      "source": [
        "pi = 3.14\n",
        "radius = float(input('Please provide the radius: '))\n",
        "height = float(input('Please provide the height: '))\n",
        "\n",
        "area = 2 * pi * radius ** 2 + 2 * pi * radius * height\n",
        "\n",
        "print(f'Area of cylinder: {area} sq. ft')"
      ],
      "metadata": {
        "colab": {
          "base_uri": "https://localhost:8080/"
        },
        "id": "IbH5NyP6tJlD",
        "outputId": "81d201ee-132b-4ed4-83a9-5c33482d530d"
      },
      "execution_count": null,
      "outputs": [
        {
          "output_type": "stream",
          "name": "stdout",
          "text": [
            "Please provide the radius: 5\n",
            "Please provide the height: 6\n",
            "Area of cylinder: 345.4 sq. ft\n"
          ]
        }
      ]
    },
    {
      "cell_type": "code",
      "source": [
        "n1 = float(input('Please enter first number: '))\n",
        "n2 = float(input('Please enter second number: '))\n",
        "s = input('Please enter symbol: ')\n",
        "\n",
        "if s == \"+\":\n",
        "  print(f'{n1}+{n2} = {n1 + n2}')\n",
        "elif s == \"-\":\n",
        "  print(f'{n1}-{n2} = {n1 - n2}')\n",
        "elif s == \"/\":\n",
        "  print(f'{n1}/{n2} = {n1 / n2}')\n",
        "elif s == \"*\":\n",
        "  print(f'{n1}*{n2} = {n1 * n2}')\n",
        "elif s == \"//\":\n",
        "  print(f'{n1}//{n2} = {n1 // n2}')\n",
        "elif s == \"**\":\n",
        "  print(f'{n1}^{n2} = {n1 ** n2}')\n",
        "elif s == \"%\":\n",
        "  print(f'{n1}mod{n2} = {n1 % n2}')\n",
        "else:\n",
        "  print('Invalid input(s)')"
      ],
      "metadata": {
        "id": "h1zeSeURwAOZ"
      },
      "execution_count": null,
      "outputs": []
    },
    {
      "cell_type": "code",
      "source": [
        "number1 = input('Please enter a number: ')\n",
        "number2 = input('Please enter a number: ')\n",
        "symbol = input('Please enter a symbol: ')\n",
        "\n",
        "if symbol==\"+\":\n",
        "  print(int(number1)+int(number2))\n",
        "elif symbol==\"-\":\n",
        "  print(int(number1)-int(number2))\n",
        "elif symbol==\"*\":\n",
        "  print(int(number1)*int(number2))\n",
        "elif symbol==\"/\":\n",
        "  print(int(number1)/int(number2))\n",
        "elif symbol==\"//\":\n",
        "  print(int(number1)//int(number2))\n",
        "elif symbol==\"**\":\n",
        "  print(int(number1)**int(number2))\n",
        "elif symbol==\"%\":\n",
        "  print(int(number1)%int(number2))"
      ],
      "metadata": {
        "colab": {
          "base_uri": "https://localhost:8080/"
        },
        "id": "pjLyQtRvr0N-",
        "outputId": "944ac0a9-d3f2-42ea-cd22-b8f0f10788e6"
      },
      "execution_count": null,
      "outputs": [
        {
          "output_type": "stream",
          "name": "stdout",
          "text": [
            "Please enter a number: 3\n",
            "Please enter a number: 2\n",
            "Please enter a symbol: *\n",
            "6\n"
          ]
        }
      ]
    },
    {
      "cell_type": "code",
      "source": [
        "for numberHours in range(1,9):\n",
        "  fee = 5 + 2.5 * numberHours\n",
        "  if fee < 10:\n",
        "    fee = 10.0\n",
        "  elif fee > 20:\n",
        "      fee = 20.0\n",
        "  print(numberHours, fee)"
      ],
      "metadata": {
        "colab": {
          "base_uri": "https://localhost:8080/"
        },
        "id": "I-MekAqVcXYI",
        "outputId": "b026ed86-539b-41d5-e39a-2186a7fa0987"
      },
      "execution_count": null,
      "outputs": [
        {
          "output_type": "stream",
          "name": "stdout",
          "text": [
            "1 10.0\n",
            "2 10.0\n",
            "3 12.5\n",
            "4 15.0\n",
            "5 17.5\n",
            "6 20.0\n",
            "7 20.0\n",
            "8 20.0\n"
          ]
        }
      ]
    },
    {
      "cell_type": "code",
      "source": [
        "import math\n",
        "\n",
        "print('Ad$\\t', 'Profit')\n",
        "for adMoney in range(0,201,25):\n",
        "  revenue = (20 + 2 * round(adMoney ** .5)) * 10\n",
        "  costs = 200 + adMoney\n",
        "  profit = revenue - costs\n",
        "  print(adMoney, '\\t', (profit))"
      ],
      "metadata": {
        "colab": {
          "base_uri": "https://localhost:8080/"
        },
        "id": "x8Gjm_OddEmT",
        "outputId": "f7810baa-769c-4e11-fbb8-b0c56329c6a1"
      },
      "execution_count": null,
      "outputs": [
        {
          "output_type": "stream",
          "name": "stdout",
          "text": [
            "Ad$\t Profit\n",
            "0 \t 0\n",
            "25 \t 75\n",
            "50 \t 90\n",
            "75 \t 105\n",
            "100 \t 100\n",
            "125 \t 95\n",
            "150 \t 90\n",
            "175 \t 85\n",
            "200 \t 80\n"
          ]
        }
      ]
    },
    {
      "cell_type": "code",
      "source": [
        "import random\n",
        "\n",
        "play = input('Do you want to play a game (yes/no)?  ').capitalize()\n",
        "\n",
        "while play == 'Yes':\n",
        "  p1 = input('Player - Chose between rock/paper/scissors: ').capitalize()\n",
        "  p2 = random.choice(['rock','paper','scissors'])\n",
        "\n",
        "  print(f'Player chose {p1}; Computer chose {p2}')\n",
        "\n",
        "  if p1==p2:\n",
        "    print('Draw')\n",
        "  elif ((p1 == 'rock' and p2 == 'scissors') or\n",
        "        (p1 == 'paper' and p2 == 'rock') or\n",
        "        (p1 == 'scissors' and p2 == 'paper')\n",
        "        ):\n",
        "    print('Player wins!')\n",
        "  else:\n",
        "    print('Computer wins!')\n",
        "  play = input('Do you want to play another game (yes/no)?  ').capitalize()\n",
        "print('Good day...')"
      ],
      "metadata": {
        "colab": {
          "base_uri": "https://localhost:8080/"
        },
        "id": "akEZ-FVbRGHG",
        "outputId": "7e952c0f-6e31-43c5-dbc6-db5cc3e7b2d4"
      },
      "execution_count": 10,
      "outputs": [
        {
          "output_type": "stream",
          "name": "stdout",
          "text": [
            "Do you want to play a game (yes/no)?  yes\n",
            "Player - Chose between rock/paper/scissors: rock\n",
            "Player chose Rock; Computer chose scissors\n",
            "Computer wins!\n",
            "Do you want to play another game (yes/no)?  no\n",
            "Good day...\n"
          ]
        }
      ]
    }
  ]
}