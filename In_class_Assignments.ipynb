{
  "nbformat": 4,
  "nbformat_minor": 0,
  "metadata": {
    "colab": {
      "provenance": [],
      "authorship_tag": "ABX9TyOOVjBG38hYW9mnjoQodGEZ",
      "include_colab_link": true
    },
    "kernelspec": {
      "name": "python3",
      "display_name": "Python 3"
    },
    "language_info": {
      "name": "python"
    }
  },
  "cells": [
    {
      "cell_type": "markdown",
      "metadata": {
        "id": "view-in-github",
        "colab_type": "text"
      },
      "source": [
        "<a href=\"https://colab.research.google.com/github/dxb1262/BTE320/blob/main/In_class_Assignments.ipynb\" target=\"_parent\"><img src=\"https://colab.research.google.com/assets/colab-badge.svg\" alt=\"Open In Colab\"/></a>"
      ]
    },
    {
      "cell_type": "code",
      "execution_count": null,
      "metadata": {
        "colab": {
          "base_uri": "https://localhost:8080/"
        },
        "id": "AUBlM3PXo8Fx",
        "outputId": "c75834f2-559b-4976-d136-687018c7ac85"
      },
      "outputs": [
        {
          "output_type": "stream",
          "name": "stdout",
          "text": [
            "Entire the radius: 5\n",
            "Enter the height: 3\n",
            "The surface area is:  240\n"
          ]
        }
      ],
      "source": [
        "radius = input(\"Entire the radius: \")\n",
        "height = input(\"Enter the height: \")\n",
        "pi = int(3.14159)\n",
        "x = 2*pi*int(radius)**2+2*pi*int(radius)*int(height)\n",
        "print(\"The surface area is: \",x)"
      ]
    },
    {
      "cell_type": "code",
      "source": [
        "pi = 3.14\n",
        "radius = float(input('Please provide the radius: '))\n",
        "height = float(input('Please provide the height: '))\n",
        "\n",
        "area = 2 * pi * radius ** 2 + 2 * pi * radius * height\n",
        "\n",
        "print(f'Area of cylinder: {area} sq. ft')"
      ],
      "metadata": {
        "colab": {
          "base_uri": "https://localhost:8080/"
        },
        "id": "IbH5NyP6tJlD",
        "outputId": "81d201ee-132b-4ed4-83a9-5c33482d530d"
      },
      "execution_count": null,
      "outputs": [
        {
          "output_type": "stream",
          "name": "stdout",
          "text": [
            "Please provide the radius: 5\n",
            "Please provide the height: 6\n",
            "Area of cylinder: 345.4 sq. ft\n"
          ]
        }
      ]
    },
    {
      "cell_type": "code",
      "source": [
        "n1 = float(input('Please enter first number: '))\n",
        "n2 = float(input('Please enter second number: '))\n",
        "s = input('Please enter symbol: ')\n",
        "\n",
        "if s == \"+\":\n",
        "  print(f'{n1}+{n2} = {n1 + n2}')\n",
        "elif s == \"-\":\n",
        "  print(f'{n1}-{n2} = {n1 - n2}')\n",
        "elif s == \"/\":\n",
        "  print(f'{n1}/{n2} = {n1 / n2}')\n",
        "elif s == \"*\":\n",
        "  print(f'{n1}*{n2} = {n1 * n2}')\n",
        "elif s == \"//\":\n",
        "  print(f'{n1}//{n2} = {n1 // n2}')\n",
        "elif s == \"**\":\n",
        "  print(f'{n1}^{n2} = {n1 ** n2}')\n",
        "elif s == \"%\":\n",
        "  print(f'{n1}mod{n2} = {n1 % n2}')\n",
        "else:\n",
        "  print('Invalid input(s)')"
      ],
      "metadata": {
        "id": "h1zeSeURwAOZ"
      },
      "execution_count": null,
      "outputs": []
    },
    {
      "cell_type": "code",
      "source": [
        "number1 = input('Please enter a number: ')\n",
        "number2 = input('Please enter a number: ')\n",
        "symbol = input('Please enter a symbol: ')\n",
        "\n",
        "if symbol==\"+\":\n",
        "  print(int(number1)+int(number2))\n",
        "elif symbol==\"-\":\n",
        "  print(int(number1)-int(number2))\n",
        "elif symbol==\"*\":\n",
        "  print(int(number1)*int(number2))\n",
        "elif symbol==\"/\":\n",
        "  print(int(number1)/int(number2))\n",
        "elif symbol==\"//\":\n",
        "  print(int(number1)//int(number2))\n",
        "elif symbol==\"**\":\n",
        "  print(int(number1)**int(number2))\n",
        "elif symbol==\"%\":\n",
        "  print(int(number1)%int(number2))"
      ],
      "metadata": {
        "colab": {
          "base_uri": "https://localhost:8080/"
        },
        "id": "pjLyQtRvr0N-",
        "outputId": "944ac0a9-d3f2-42ea-cd22-b8f0f10788e6"
      },
      "execution_count": 5,
      "outputs": [
        {
          "output_type": "stream",
          "name": "stdout",
          "text": [
            "Please enter a number: 3\n",
            "Please enter a number: 2\n",
            "Please enter a symbol: *\n",
            "6\n"
          ]
        }
      ]
    }
  ]
}