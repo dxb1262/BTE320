{
  "nbformat": 4,
  "nbformat_minor": 0,
  "metadata": {
    "colab": {
      "provenance": [],
      "authorship_tag": "ABX9TyMMv0kbf33gGC+/K+mU910e",
      "include_colab_link": true
    },
    "kernelspec": {
      "name": "python3",
      "display_name": "Python 3"
    },
    "language_info": {
      "name": "python"
    }
  },
  "cells": [
    {
      "cell_type": "markdown",
      "metadata": {
        "id": "view-in-github",
        "colab_type": "text"
      },
      "source": [
        "<a href=\"https://colab.research.google.com/github/dxb1262/BTE320/blob/main/In_class_Assignments.ipynb\" target=\"_parent\"><img src=\"https://colab.research.google.com/assets/colab-badge.svg\" alt=\"Open In Colab\"/></a>"
      ]
    },
    {
      "cell_type": "code",
      "execution_count": null,
      "metadata": {
        "colab": {
          "base_uri": "https://localhost:8080/"
        },
        "id": "AUBlM3PXo8Fx",
        "outputId": "a2da8f3c-cd6e-477c-d171-dce19c1c65c4"
      },
      "outputs": [
        {
          "output_type": "stream",
          "name": "stdout",
          "text": [
            "Entire the radius: 5\n",
            "Enter the height: 2\n",
            "The surface area is:  210\n"
          ]
        }
      ],
      "source": [
        "radius = input(\"Entire the radius: \")\n",
        "height = input(\"Enter the height: \")\n",
        "pi = int(3.14159)\n",
        "x = 2*pi*int(radius)**2+2*pi*int(radius)*int(height)\n",
        "print(\"The surface area is: \",x)"
      ]
    },
    {
      "cell_type": "code",
      "source": [
        "n1 = float(input('Please enter first number: '))\n",
        "n2 = float(input('Please enter second number: '))\n",
        "s = input('Please enter symbol: ')\n",
        "\n",
        "if s == \"+\":\n",
        "  print(f'{n1}+{n2} = {n1 + n2}')\n",
        "elif s == \"-\":\n",
        "  print(f'{n1}-{n2} = {n1 - n2}')\n",
        "elif s == \"/\":\n",
        "  print(f'{n1}/{n2} = {n1 / n2}')\n",
        "elif s == \"*\":\n",
        "  print(f'{n1}*{n2} = {n1 * n2}')\n",
        "elif s == \"//\":\n",
        "  print(f'{n1}//{n2} = {n1 // n2}')\n",
        "elif s == \"**\":\n",
        "  print(f'{n1}^{n2} = {n1 ** n2}')\n",
        "elif s == \"%\":\n",
        "  print(f'{n1}mod{n2} = {n1 % n2}')\n",
        "else:\n",
        "  print('Invalid input(s)')"
      ],
      "metadata": {
        "id": "h1zeSeURwAOZ",
        "colab": {
          "base_uri": "https://localhost:8080/"
        },
        "outputId": "1e4d46d2-8f22-4bfa-cede-0b01e07562a6"
      },
      "execution_count": null,
      "outputs": [
        {
          "output_type": "stream",
          "name": "stdout",
          "text": [
            "Please enter first number: 5\n",
            "Please enter second number: 2\n",
            "Please enter symbol: %\n",
            "5.0mod2.0 = 1.0\n"
          ]
        }
      ]
    },
    {
      "cell_type": "code",
      "source": [
        "for numberHours in range(1,9):\n",
        "  fee = 5 + 2.5 * numberHours\n",
        "  if fee < 10:\n",
        "    fee = 10.0\n",
        "  elif fee > 20:\n",
        "      fee = 20.0\n",
        "  print(numberHours, fee)"
      ],
      "metadata": {
        "colab": {
          "base_uri": "https://localhost:8080/"
        },
        "id": "I-MekAqVcXYI",
        "outputId": "ec1d0856-daab-4354-d0c6-ed0be4be2b18"
      },
      "execution_count": null,
      "outputs": [
        {
          "output_type": "stream",
          "name": "stdout",
          "text": [
            "1 10.0\n",
            "2 10.0\n",
            "3 12.5\n",
            "4 15.0\n",
            "5 17.5\n",
            "6 20.0\n",
            "7 20.0\n",
            "8 20.0\n"
          ]
        }
      ]
    },
    {
      "cell_type": "code",
      "source": [
        "import math\n",
        "\n",
        "print('Ad$\\t', 'Profit')\n",
        "for adMoney in range(0,201,25):\n",
        "  revenue = (20 + 2 * round(adMoney ** .5)) * 10\n",
        "  costs = 200 + adMoney\n",
        "  profit = revenue - costs\n",
        "  print(adMoney, '\\t', (profit))"
      ],
      "metadata": {
        "colab": {
          "base_uri": "https://localhost:8080/"
        },
        "id": "x8Gjm_OddEmT",
        "outputId": "f7810baa-769c-4e11-fbb8-b0c56329c6a1"
      },
      "execution_count": null,
      "outputs": [
        {
          "output_type": "stream",
          "name": "stdout",
          "text": [
            "Ad$\t Profit\n",
            "0 \t 0\n",
            "25 \t 75\n",
            "50 \t 90\n",
            "75 \t 105\n",
            "100 \t 100\n",
            "125 \t 95\n",
            "150 \t 90\n",
            "175 \t 85\n",
            "200 \t 80\n"
          ]
        }
      ]
    },
    {
      "cell_type": "code",
      "source": [
        "import random\n",
        "\n",
        "play = input('Do you want to play a game (yes/no)?  ').capitalize()\n",
        "\n",
        "while play == 'Yes':\n",
        "  p1 = input('Player - Chose between rock/paper/scissors: ').capitalize()\n",
        "  p2 = random.choice(['rock','paper','scissors'])\n",
        "\n",
        "  print(f'Player chose {p1}; Computer chose {p2}')\n",
        "\n",
        "  if p1==p2:\n",
        "    print('Draw')\n",
        "  elif ((p1 == 'rock' and p2 == 'scissors') or\n",
        "        (p1 == 'paper' and p2 == 'rock') or\n",
        "        (p1 == 'scissors' and p2 == 'paper')\n",
        "        ):\n",
        "    print('Player wins!')\n",
        "  else:\n",
        "    print('Computer wins!')\n",
        "  play = input('Do you want to play another game (yes/no)?  ').capitalize()\n",
        "print('Good day...')"
      ],
      "metadata": {
        "colab": {
          "base_uri": "https://localhost:8080/"
        },
        "id": "akEZ-FVbRGHG",
        "outputId": "7e952c0f-6e31-43c5-dbc6-db5cc3e7b2d4"
      },
      "execution_count": null,
      "outputs": [
        {
          "output_type": "stream",
          "name": "stdout",
          "text": [
            "Do you want to play a game (yes/no)?  yes\n",
            "Player - Chose between rock/paper/scissors: rock\n",
            "Player chose Rock; Computer chose scissors\n",
            "Computer wins!\n",
            "Do you want to play another game (yes/no)?  no\n",
            "Good day...\n"
          ]
        }
      ]
    },
    {
      "cell_type": "code",
      "source": [
        "lst = []\n",
        "\n",
        "num = float(input('Give a number: '))\n",
        "while num != 0.0:\n",
        "  lst.append(num)\n",
        "  num = float(input('Give a number: '))\n",
        "lst.sort(reverse=True)\n",
        "print(lst)"
      ],
      "metadata": {
        "id": "qv2i6yGJPJF7",
        "colab": {
          "base_uri": "https://localhost:8080/"
        },
        "outputId": "5305fe04-d473-4bf1-97ea-ab59646eeeb3"
      },
      "execution_count": 1,
      "outputs": [
        {
          "output_type": "stream",
          "name": "stdout",
          "text": [
            "Give a number: 6\n",
            "Give a number: 5\n",
            "Give a number: 4\n",
            "Give a number: 3\n",
            "Give a number: 2\n",
            "Give a number: 1\n",
            "Give a number: 1\n",
            "Give a number: 0\n",
            "[6.0, 5.0, 4.0, 3.0, 2.0, 1.0, 1.0]\n"
          ]
        }
      ]
    },
    {
      "cell_type": "code",
      "source": [
        "months = {}\n",
        "names=[\"Jan\", \"Feb\", \"March\", \"April\", \"May\", \"June\", \"July\", \"Aug\", \"Sept\", \"Oct\", \"Nov\", \"Dec\"]\n",
        "numbers=[1, 2, 3, 4, 5, 6, 7, 8, 9, 10, 11, 12]\n",
        "\n",
        "cntr = 0\n",
        "for num in numbers:\n",
        "  months[num] = names[num-1]\n",
        "months"
      ],
      "metadata": {
        "colab": {
          "base_uri": "https://localhost:8080/"
        },
        "id": "MbAytyXFoAqW",
        "outputId": "25583bad-6c30-44f2-c97c-da3e23b9857b"
      },
      "execution_count": null,
      "outputs": [
        {
          "output_type": "execute_result",
          "data": {
            "text/plain": [
              "{1: 'Jan',\n",
              " 2: 'Feb',\n",
              " 3: 'March',\n",
              " 4: 'April',\n",
              " 5: 'May',\n",
              " 6: 'June',\n",
              " 7: 'July',\n",
              " 8: 'Aug',\n",
              " 9: 'Sept',\n",
              " 10: 'Oct',\n",
              " 11: 'Nov',\n",
              " 12: 'Dec'}"
            ]
          },
          "metadata": {},
          "execution_count": 4
        }
      ]
    },
    {
      "cell_type": "code",
      "source": [
        "counts={}\n",
        "\n",
        "while len(counts)<5:\n",
        "  keyval=input(\"Give a String: \")\n",
        "\n",
        "  if keyval not in counts:\n",
        "    counts[keyval]=1\n",
        "  else:\n",
        "    counts[keyval]+=1\n",
        "counts"
      ],
      "metadata": {
        "id": "AhTBcWNJMpfq",
        "colab": {
          "base_uri": "https://localhost:8080/"
        },
        "outputId": "07466aae-6aa1-4541-d075-f2bbbdcd5bef"
      },
      "execution_count": 3,
      "outputs": [
        {
          "name": "stdout",
          "output_type": "stream",
          "text": [
            "Give a String: a\n",
            "Give a String: b\n",
            "Give a String: c\n",
            "Give a String: d\n",
            "Give a String: e\n"
          ]
        },
        {
          "output_type": "execute_result",
          "data": {
            "text/plain": [
              "{'a': 1, 'b': 1, 'c': 1, 'd': 1, 'e': 1}"
            ]
          },
          "metadata": {},
          "execution_count": 3
        }
      ]
    },
    {
      "cell_type": "code",
      "source": [
        "def calcFee(hours):\n",
        "  fee = 5 + 2.5 * (hours)\n",
        "  if fee < 10.0:\n",
        "    fee = 10.0\n",
        "  elif fee >= 20.0:\n",
        "    fee = 20.0\n",
        "  print(f'Fee: {fee}$')\n",
        "\n",
        "def main():\n",
        "  numHours = int(input('Enter number of hours: '))\n",
        "  calcFee(numHours)\n",
        "\n",
        "main()"
      ],
      "metadata": {
        "colab": {
          "base_uri": "https://localhost:8080/"
        },
        "id": "E1OzGA6tmY7B",
        "outputId": "bd1a2eff-9ad9-49ec-f9e9-fad12a69de71"
      },
      "execution_count": null,
      "outputs": [
        {
          "output_type": "stream",
          "name": "stdout",
          "text": [
            "Enter number of hours: 5\n",
            "Fee: 17.5$\n"
          ]
        }
      ]
    },
    {
      "cell_type": "code",
      "source": [
        "def reverse(s):\n",
        "  if len(s) <=1:\n",
        "    return s\n",
        "  else:\n",
        "    #returns[-1] + reverse(s[:-1])\n",
        "    return s[-1] + reverse(s[1:-1]) + s[0]\n",
        "    #return reverse(s[1:]) + s[0]\n",
        "\n",
        "reverse('Hello')"
      ],
      "metadata": {
        "colab": {
          "base_uri": "https://localhost:8080/",
          "height": 35
        },
        "id": "nlWVi6l449Kw",
        "outputId": "8ecd708e-fb93-4d42-d3ad-71ed897466b5"
      },
      "execution_count": null,
      "outputs": [
        {
          "output_type": "execute_result",
          "data": {
            "text/plain": [
              "'olleH'"
            ],
            "application/vnd.google.colaboratory.intrinsic+json": {
              "type": "string"
            }
          },
          "metadata": {},
          "execution_count": 7
        }
      ]
    },
    {
      "cell_type": "code",
      "source": [
        "def calcFee(hours):\n",
        "  fee = 5 + 2.5 * (hours)\n",
        "  if fee < 10.0:\n",
        "    fee = 10.0\n",
        "  elif fee >= 20.0:\n",
        "    fee = 20.0\n",
        "  print(f'Fee: {fee}$')\n",
        "\n",
        "def main():\n",
        "  try:\n",
        "    numHours = int(input('Enter number of hours: '))\n",
        "    calcFee(numHours)\n",
        "  except ValueError:\n",
        "    print('Cannot cast to int().')\n",
        "  except:\n",
        "    print('Unknown error...')\n",
        "\n",
        "\n",
        "if __name__ == '__main__':\n",
        "  main()"
      ],
      "metadata": {
        "colab": {
          "base_uri": "https://localhost:8080/"
        },
        "id": "Zgg_AkFwR3JV",
        "outputId": "45d31dd2-b2d2-409f-8604-37594c616a91"
      },
      "execution_count": null,
      "outputs": [
        {
          "output_type": "stream",
          "name": "stdout",
          "text": [
            "Enter number of hours: 5\n",
            "Fee: 17.5$\n"
          ]
        }
      ]
    },
    {
      "cell_type": "code",
      "source": [
        "def getValues(n):\n",
        "  L = []\n",
        "  for i in range(n):\n",
        "    weight = float(input('Enter weight: '))\n",
        "    L.append(weight)\n",
        "  return L\n",
        "\n",
        "def calcAverage(alist):\n",
        "  try:\n",
        "    print(f'The average weight is {sum(alist[2:]) / len(alist[2:])} lbs.')\n",
        "  except ZeroDivisionError:\n",
        "    print('List alist  is empty!')\n",
        "\n",
        "if __name__ == \"__main__\":\n",
        "  try:\n",
        "    n = int(input('Enter size of list: '))\n",
        "    alist = getValues(n)\n",
        "    calcAverage(alist)\n",
        "  except ValueError:\n",
        "    print('Cannot cast to int().')"
      ],
      "metadata": {
        "colab": {
          "base_uri": "https://localhost:8080/"
        },
        "id": "2xb9t-9EWfBB",
        "outputId": "e8db12d6-7eb9-4b63-998a-e4d5a69812d9"
      },
      "execution_count": null,
      "outputs": [
        {
          "output_type": "stream",
          "name": "stdout",
          "text": [
            "Enter size of list: 0\n",
            "List alist  is empty!\n"
          ]
        }
      ]
    },
    {
      "cell_type": "code",
      "source": [
        "class Greeting:\n",
        "  def __init__(self, first, last):\n",
        "    self.first = first\n",
        "    self.last = last\n",
        "\n",
        "  def display(self, formal=False):\n",
        "    if formal:\n",
        "      print(f'Hello, {self.first} {self.last}')\n",
        "    else:\n",
        "      print(f'Hi {self.first}')\n",
        "  def __str__(self):\n",
        "    return str(self.first) + \", \" + str(self.last)\n",
        "    return \"{}, {}\".format(self.first, self.last)\n",
        "    return f'{self.first}, {self.last}'\n",
        "\n",
        "greeting = Greeting('Donald', 'Becker')\n",
        "other_greeting = Greeting('Bob', 'Dylan')\n",
        "greeting.display()\n",
        "print(greeting)\n",
        "print(other_greeting)"
      ],
      "metadata": {
        "colab": {
          "base_uri": "https://localhost:8080/"
        },
        "id": "qhKFL1-8rJbK",
        "outputId": "6c8a3e7b-89cf-4bb8-c3b4-ab24a67d314e"
      },
      "execution_count": null,
      "outputs": [
        {
          "output_type": "stream",
          "name": "stdout",
          "text": [
            "Hi Donald\n",
            "Donald, Becker\n",
            "Bob, Dylan\n"
          ]
        }
      ]
    },
    {
      "cell_type": "code",
      "source": [
        "class Student:\n",
        "  def __init__(self, name, number):\n",
        "    self.name = name\n",
        "    self.number = number\n",
        "    self.courses = []\n",
        "\n",
        "  def enroll(self,course):\n",
        "    if course in self.courses:\n",
        "      print(f'You have already enrolled in {course}')\n",
        "    else:\n",
        "      self.courses.append(course)\n",
        "\n",
        "  def get_courses(self):\n",
        "    return self.courses\n",
        "\n",
        "s1 = Student(\"James Bond\", 7)\n",
        "s2 = Student(\"Clark Kent\", 333)\n",
        "s1.name, s2.name"
      ],
      "metadata": {
        "colab": {
          "base_uri": "https://localhost:8080/"
        },
        "id": "qKe10-Hj8OTR",
        "outputId": "1e0476b8-578e-4f49-f54c-f08c6527f642"
      },
      "execution_count": null,
      "outputs": [
        {
          "output_type": "execute_result",
          "data": {
            "text/plain": [
              "('James Bond', 'Clark Kent')"
            ]
          },
          "metadata": {},
          "execution_count": 32
        }
      ]
    },
    {
      "cell_type": "code",
      "source": [
        "s1.enroll('BTE320')"
      ],
      "metadata": {
        "colab": {
          "base_uri": "https://localhost:8080/"
        },
        "id": "4LcymyxK_4Vl",
        "outputId": "b37e6b3a-880b-4100-f441-b4c62eee031c"
      },
      "execution_count": null,
      "outputs": [
        {
          "output_type": "stream",
          "name": "stdout",
          "text": [
            "You have already enrolled in BTE320\n"
          ]
        }
      ]
    },
    {
      "cell_type": "code",
      "source": [
        "import math\n",
        "\n",
        "class Point:\n",
        "  def __init__(self, x, y):\n",
        "    self.x = x\n",
        "    self.y = y\n",
        "  def distance(self, other):\n",
        "    return math.sqrt((self.x - other.x)**2 + (self.y - other.y)**2)"
      ],
      "metadata": {
        "id": "7KjT6tKTpjw_"
      },
      "execution_count": 5,
      "outputs": []
    },
    {
      "cell_type": "code",
      "source": [
        "class Rectangle:\n",
        "  def __init__(self):\n",
        "    self.c1 = Point(0, 0)\n",
        "    self.c2 = Point(0, 2)\n",
        "    self.c3 = Point(2, 0)\n",
        "    self.c4 = Point(2, 2)\n",
        "    self.width = self.calculate_width()\n",
        "    self.length = self.calculate_length()\n",
        "\n",
        "  def calculate_width(self):\n",
        "    return self.c1.distance(self.c2)\n",
        "\n",
        "  def calculate_length(self):\n",
        "    return self.c1.distance(self.c3)\n",
        "\n",
        "  def area(self):\n",
        "    return f'Area = {self.width * self.length} sq. ft'\n",
        "\n",
        "\n",
        "square = Rectangle()\n",
        "square.area()"
      ],
      "metadata": {
        "colab": {
          "base_uri": "https://localhost:8080/",
          "height": 35
        },
        "id": "9VhsS6nlpulS",
        "outputId": "83fe3a25-bd83-42d2-e25a-7591d17374c4"
      },
      "execution_count": null,
      "outputs": [
        {
          "output_type": "execute_result",
          "data": {
            "text/plain": [
              "'Area = 4.0 sq. ft'"
            ],
            "application/vnd.google.colaboratory.intrinsic+json": {
              "type": "string"
            }
          },
          "metadata": {},
          "execution_count": 23
        }
      ]
    }
  ]
}