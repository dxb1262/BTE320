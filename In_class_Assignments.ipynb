{
  "nbformat": 4,
  "nbformat_minor": 0,
  "metadata": {
    "colab": {
      "provenance": [],
      "authorship_tag": "ABX9TyPqNaBXflkT6kHZMr+JCAIQ",
      "include_colab_link": true
    },
    "kernelspec": {
      "name": "python3",
      "display_name": "Python 3"
    },
    "language_info": {
      "name": "python"
    }
  },
  "cells": [
    {
      "cell_type": "markdown",
      "metadata": {
        "id": "view-in-github",
        "colab_type": "text"
      },
      "source": [
        "<a href=\"https://colab.research.google.com/github/dxb1262/BTE320/blob/main/In_class_Assignments.ipynb\" target=\"_parent\"><img src=\"https://colab.research.google.com/assets/colab-badge.svg\" alt=\"Open In Colab\"/></a>"
      ]
    },
    {
      "cell_type": "code",
      "execution_count": null,
      "metadata": {
        "colab": {
          "base_uri": "https://localhost:8080/"
        },
        "id": "AUBlM3PXo8Fx",
        "outputId": "a2da8f3c-cd6e-477c-d171-dce19c1c65c4"
      },
      "outputs": [
        {
          "output_type": "stream",
          "name": "stdout",
          "text": [
            "Entire the radius: 5\n",
            "Enter the height: 2\n",
            "The surface area is:  210\n"
          ]
        }
      ],
      "source": [
        "radius = input(\"Entire the radius: \")\n",
        "height = input(\"Enter the height: \")\n",
        "pi = int(3.14159)\n",
        "x = 2*pi*int(radius)**2+2*pi*int(radius)*int(height)\n",
        "print(\"The surface area is: \",x)"
      ]
    },
    {
      "cell_type": "code",
      "source": [
        "pi = 3.14\n",
        "radius = float(input('Please provide the radius: '))\n",
        "height = float(input('Please provide the height: '))\n",
        "\n",
        "area = 2 * pi * radius ** 2 + 2 * pi * radius * height\n",
        "\n",
        "print(f'Area of cylinder: {area} sq. ft')"
      ],
      "metadata": {
        "colab": {
          "base_uri": "https://localhost:8080/"
        },
        "id": "IbH5NyP6tJlD",
        "outputId": "81d201ee-132b-4ed4-83a9-5c33482d530d"
      },
      "execution_count": null,
      "outputs": [
        {
          "output_type": "stream",
          "name": "stdout",
          "text": [
            "Please provide the radius: 5\n",
            "Please provide the height: 6\n",
            "Area of cylinder: 345.4 sq. ft\n"
          ]
        }
      ]
    },
    {
      "cell_type": "code",
      "source": [
        "n1 = float(input('Please enter first number: '))\n",
        "n2 = float(input('Please enter second number: '))\n",
        "s = input('Please enter symbol: ')\n",
        "\n",
        "if s == \"+\":\n",
        "  print(f'{n1}+{n2} = {n1 + n2}')\n",
        "elif s == \"-\":\n",
        "  print(f'{n1}-{n2} = {n1 - n2}')\n",
        "elif s == \"/\":\n",
        "  print(f'{n1}/{n2} = {n1 / n2}')\n",
        "elif s == \"*\":\n",
        "  print(f'{n1}*{n2} = {n1 * n2}')\n",
        "elif s == \"//\":\n",
        "  print(f'{n1}//{n2} = {n1 // n2}')\n",
        "elif s == \"**\":\n",
        "  print(f'{n1}^{n2} = {n1 ** n2}')\n",
        "elif s == \"%\":\n",
        "  print(f'{n1}mod{n2} = {n1 % n2}')\n",
        "else:\n",
        "  print('Invalid input(s)')"
      ],
      "metadata": {
        "id": "h1zeSeURwAOZ",
        "colab": {
          "base_uri": "https://localhost:8080/"
        },
        "outputId": "1e4d46d2-8f22-4bfa-cede-0b01e07562a6"
      },
      "execution_count": null,
      "outputs": [
        {
          "output_type": "stream",
          "name": "stdout",
          "text": [
            "Please enter first number: 5\n",
            "Please enter second number: 2\n",
            "Please enter symbol: %\n",
            "5.0mod2.0 = 1.0\n"
          ]
        }
      ]
    },
    {
      "cell_type": "code",
      "source": [
        "number1 = input('Please enter a number: ')\n",
        "number2 = input('Please enter a number: ')\n",
        "symbol = input('Please enter a symbol: ')\n",
        "\n",
        "if symbol==\"+\":\n",
        "  print(int(number1)+int(number2))\n",
        "elif symbol==\"-\":\n",
        "  print(int(number1)-int(number2))\n",
        "elif symbol==\"*\":\n",
        "  print(int(number1)*int(number2))\n",
        "elif symbol==\"/\":\n",
        "  print(int(number1)/int(number2))\n",
        "elif symbol==\"//\":\n",
        "  print(int(number1)//int(number2))\n",
        "elif symbol==\"**\":\n",
        "  print(int(number1)**int(number2))\n",
        "elif symbol==\"%\":\n",
        "  print(int(number1)%int(number2))"
      ],
      "metadata": {
        "colab": {
          "base_uri": "https://localhost:8080/"
        },
        "id": "pjLyQtRvr0N-",
        "outputId": "944ac0a9-d3f2-42ea-cd22-b8f0f10788e6"
      },
      "execution_count": null,
      "outputs": [
        {
          "output_type": "stream",
          "name": "stdout",
          "text": [
            "Please enter a number: 3\n",
            "Please enter a number: 2\n",
            "Please enter a symbol: *\n",
            "6\n"
          ]
        }
      ]
    },
    {
      "cell_type": "code",
      "source": [
        "for numberHours in range(1,9):\n",
        "  fee = 5 + 2.5 * numberHours\n",
        "  if fee < 10:\n",
        "    fee = 10.0\n",
        "  elif fee > 20:\n",
        "      fee = 20.0\n",
        "  print(numberHours, fee)"
      ],
      "metadata": {
        "colab": {
          "base_uri": "https://localhost:8080/"
        },
        "id": "I-MekAqVcXYI",
        "outputId": "ec1d0856-daab-4354-d0c6-ed0be4be2b18"
      },
      "execution_count": null,
      "outputs": [
        {
          "output_type": "stream",
          "name": "stdout",
          "text": [
            "1 10.0\n",
            "2 10.0\n",
            "3 12.5\n",
            "4 15.0\n",
            "5 17.5\n",
            "6 20.0\n",
            "7 20.0\n",
            "8 20.0\n"
          ]
        }
      ]
    },
    {
      "cell_type": "code",
      "source": [
        "import math\n",
        "\n",
        "print('Ad$\\t', 'Profit')\n",
        "for adMoney in range(0,201,25):\n",
        "  revenue = (20 + 2 * round(adMoney ** .5)) * 10\n",
        "  costs = 200 + adMoney\n",
        "  profit = revenue - costs\n",
        "  print(adMoney, '\\t', (profit))"
      ],
      "metadata": {
        "colab": {
          "base_uri": "https://localhost:8080/"
        },
        "id": "x8Gjm_OddEmT",
        "outputId": "f7810baa-769c-4e11-fbb8-b0c56329c6a1"
      },
      "execution_count": null,
      "outputs": [
        {
          "output_type": "stream",
          "name": "stdout",
          "text": [
            "Ad$\t Profit\n",
            "0 \t 0\n",
            "25 \t 75\n",
            "50 \t 90\n",
            "75 \t 105\n",
            "100 \t 100\n",
            "125 \t 95\n",
            "150 \t 90\n",
            "175 \t 85\n",
            "200 \t 80\n"
          ]
        }
      ]
    },
    {
      "cell_type": "code",
      "source": [
        "import random\n",
        "\n",
        "play = input('Do you want to play a game (yes/no)?  ').capitalize()\n",
        "\n",
        "while play == 'Yes':\n",
        "  p1 = input('Player - Chose between rock/paper/scissors: ').capitalize()\n",
        "  p2 = random.choice(['rock','paper','scissors'])\n",
        "\n",
        "  print(f'Player chose {p1}; Computer chose {p2}')\n",
        "\n",
        "  if p1==p2:\n",
        "    print('Draw')\n",
        "  elif ((p1 == 'rock' and p2 == 'scissors') or\n",
        "        (p1 == 'paper' and p2 == 'rock') or\n",
        "        (p1 == 'scissors' and p2 == 'paper')\n",
        "        ):\n",
        "    print('Player wins!')\n",
        "  else:\n",
        "    print('Computer wins!')\n",
        "  play = input('Do you want to play another game (yes/no)?  ').capitalize()\n",
        "print('Good day...')"
      ],
      "metadata": {
        "colab": {
          "base_uri": "https://localhost:8080/"
        },
        "id": "akEZ-FVbRGHG",
        "outputId": "7e952c0f-6e31-43c5-dbc6-db5cc3e7b2d4"
      },
      "execution_count": null,
      "outputs": [
        {
          "output_type": "stream",
          "name": "stdout",
          "text": [
            "Do you want to play a game (yes/no)?  yes\n",
            "Player - Chose between rock/paper/scissors: rock\n",
            "Player chose Rock; Computer chose scissors\n",
            "Computer wins!\n",
            "Do you want to play another game (yes/no)?  no\n",
            "Good day...\n"
          ]
        }
      ]
    },
    {
      "cell_type": "code",
      "source": [
        "lst = []\n",
        "\n",
        "num = float(input('Give a number: '))\n",
        "while num != 0.0:\n",
        "  lst.append(num)\n",
        "  num = float(input('Give a number: '))\n",
        "lst.sort(reverse=True)\n",
        "print(lst)"
      ],
      "metadata": {
        "id": "qv2i6yGJPJF7"
      },
      "execution_count": null,
      "outputs": []
    },
    {
      "cell_type": "code",
      "source": [
        "months = {}\n",
        "names=[\"Jan\", \"Feb\", \"March\", \"April\", \"May\", \"June\", \"July\", \"Aug\", \"Sept\", \"Oct\", \"Nov\", \"Dec\"]\n",
        "nums=[1, 2, 3, 4, 5, 6, 7, 8, 9, 10, 11, 12]\n",
        "\n",
        "for idx in range(len(nums)):\n",
        "  months[nums[idx]] = names[idx]\n",
        "months"
      ],
      "metadata": {
        "id": "L_UhpzWlUW6J",
        "colab": {
          "base_uri": "https://localhost:8080/"
        },
        "outputId": "cc2be06e-608c-421e-9d64-e35b3ae4a8e3"
      },
      "execution_count": null,
      "outputs": [
        {
          "output_type": "execute_result",
          "data": {
            "text/plain": [
              "{1: 'Jan',\n",
              " 2: 'Feb',\n",
              " 3: 'March',\n",
              " 4: 'April',\n",
              " 5: 'May',\n",
              " 6: 'June',\n",
              " 7: 'July',\n",
              " 8: 'Aug',\n",
              " 9: 'Sept',\n",
              " 10: 'Oct',\n",
              " 11: 'Nov',\n",
              " 12: 'Dec'}"
            ]
          },
          "metadata": {},
          "execution_count": 5
        }
      ]
    },
    {
      "cell_type": "code",
      "source": [
        "months = {}\n",
        "names=[\"Jan\", \"Feb\", \"March\", \"April\", \"May\", \"June\", \"July\", \"Aug\", \"Sept\", \"Oct\", \"Nov\", \"Dec\"]\n",
        "numbers=[1, 2, 3, 4, 5, 6, 7, 8, 9, 10, 11, 12]\n",
        "\n",
        "cntr = 0\n",
        "for num in numbers:\n",
        "  months[num] = names[num-1]\n",
        "months"
      ],
      "metadata": {
        "colab": {
          "base_uri": "https://localhost:8080/"
        },
        "id": "MbAytyXFoAqW",
        "outputId": "25583bad-6c30-44f2-c97c-da3e23b9857b"
      },
      "execution_count": null,
      "outputs": [
        {
          "output_type": "execute_result",
          "data": {
            "text/plain": [
              "{1: 'Jan',\n",
              " 2: 'Feb',\n",
              " 3: 'March',\n",
              " 4: 'April',\n",
              " 5: 'May',\n",
              " 6: 'June',\n",
              " 7: 'July',\n",
              " 8: 'Aug',\n",
              " 9: 'Sept',\n",
              " 10: 'Oct',\n",
              " 11: 'Nov',\n",
              " 12: 'Dec'}"
            ]
          },
          "metadata": {},
          "execution_count": 4
        }
      ]
    },
    {
      "cell_type": "code",
      "source": [
        "counts={}\n",
        "\n",
        "while len(counts)<5:\n",
        "  keyval=input(\"Give a String: \")\n",
        "\n",
        "  if keyval not in counts:\n",
        "    counts[keyval]=1\n",
        "  else:\n",
        "    counts[keyval]+=1\n",
        "counts"
      ],
      "metadata": {
        "id": "AhTBcWNJMpfq"
      },
      "execution_count": null,
      "outputs": []
    },
    {
      "cell_type": "code",
      "source": [
        "def calcFee(hours):\n",
        "  fee = 5 + 2.5 * (hours)\n",
        "  if fee < 10.0:\n",
        "    fee = 10.0\n",
        "  elif fee >= 20.0:\n",
        "    fee = 20.0\n",
        "  print(f'Fee: {fee}$')\n",
        "\n",
        "def main():\n",
        "  numHours = int(input('Enter number of hours: '))\n",
        "  calcFee(numHours)\n",
        "\n",
        "main()"
      ],
      "metadata": {
        "colab": {
          "base_uri": "https://localhost:8080/"
        },
        "id": "E1OzGA6tmY7B",
        "outputId": "bd1a2eff-9ad9-49ec-f9e9-fad12a69de71"
      },
      "execution_count": null,
      "outputs": [
        {
          "output_type": "stream",
          "name": "stdout",
          "text": [
            "Enter number of hours: 5\n",
            "Fee: 17.5$\n"
          ]
        }
      ]
    },
    {
      "cell_type": "code",
      "source": [
        "def reverse(s):\n",
        "  if len(s) <=1:\n",
        "    return s\n",
        "  else:\n",
        "    #returns[-1] + reverse(s[:-1])\n",
        "    return s[-1] + reverse(s[1:-1]) + s[0]\n",
        "    #return reverse(s[1:]) + s[0]\n",
        "\n",
        "reverse('Hello')"
      ],
      "metadata": {
        "colab": {
          "base_uri": "https://localhost:8080/",
          "height": 35
        },
        "id": "nlWVi6l449Kw",
        "outputId": "8ecd708e-fb93-4d42-d3ad-71ed897466b5"
      },
      "execution_count": null,
      "outputs": [
        {
          "output_type": "execute_result",
          "data": {
            "text/plain": [
              "'olleH'"
            ],
            "application/vnd.google.colaboratory.intrinsic+json": {
              "type": "string"
            }
          },
          "metadata": {},
          "execution_count": 7
        }
      ]
    },
    {
      "cell_type": "code",
      "source": [
        "def linear_search(arr, target):\n",
        "  for item in arr:\n",
        "    if item == target:\n",
        "      return item\n",
        "  return -1\n",
        "linear_search([1,4,2,5],8)"
      ],
      "metadata": {
        "colab": {
          "base_uri": "https://localhost:8080/"
        },
        "id": "_E5q61uRRvuX",
        "outputId": "760e7848-b493-4e0c-c352-fa6f8ac8919c"
      },
      "execution_count": null,
      "outputs": [
        {
          "output_type": "execute_result",
          "data": {
            "text/plain": [
              "-1"
            ]
          },
          "metadata": {},
          "execution_count": 9
        }
      ]
    },
    {
      "cell_type": "code",
      "source": [
        "def bubble_sort(L):\n",
        "  for i in range(len(L)):\n",
        "    for j in range(len(L) - i - 1):\n",
        "      if L[i] > L[j]:\n",
        "        L[i], L[j] = L[j], L[i]\n",
        "  return L"
      ],
      "metadata": {
        "id": "oQOpqf54TohZ"
      },
      "execution_count": null,
      "outputs": []
    },
    {
      "cell_type": "code",
      "source": [
        "def binary_search(arr, target):\n",
        "  low, high = 0, len(arr) -1\n",
        "  while low <= high:\n",
        "    mid = (low + high) // 2\n",
        "    if arr[mid] == target:\n",
        "      return mid\n",
        "    elif arr[mid] < target:\n",
        "      low = mid + 1\n",
        "    else:\n",
        "      high = mid - 1\n",
        "  return -1"
      ],
      "metadata": {
        "id": "zkkyj70zVpu2"
      },
      "execution_count": null,
      "outputs": []
    },
    {
      "cell_type": "code",
      "source": [
        "def calcFee(hours):\n",
        "  fee = 5 + 2.5 * (hours)\n",
        "  if fee < 10.0:\n",
        "    fee = 10.0\n",
        "  elif fee >= 20.0:\n",
        "    fee = 20.0\n",
        "  print(f'Fee: {fee}$')\n",
        "\n",
        "def main():\n",
        "  try:\n",
        "    numHours = int(input('Enter number of hours: '))\n",
        "    calcFee(numHours)\n",
        "  except ValueError:\n",
        "    print('Cannot cast to int().')\n",
        "  except:\n",
        "    print('Unknown error...')\n",
        "\n",
        "\n",
        "if __name__ == '__main__':\n",
        "  main()"
      ],
      "metadata": {
        "colab": {
          "base_uri": "https://localhost:8080/"
        },
        "id": "Zgg_AkFwR3JV",
        "outputId": "45d31dd2-b2d2-409f-8604-37594c616a91"
      },
      "execution_count": null,
      "outputs": [
        {
          "output_type": "stream",
          "name": "stdout",
          "text": [
            "Enter number of hours: 5\n",
            "Fee: 17.5$\n"
          ]
        }
      ]
    },
    {
      "cell_type": "code",
      "source": [
        "def getValues(n):\n",
        "  L = []\n",
        "  for i in range(n):\n",
        "    weight = float(input('Enter weight: '))\n",
        "    L.append(weight)\n",
        "  return L\n",
        "\n",
        "def calcAverage(alist):\n",
        "  try:\n",
        "    print(f'The average weight is {sum(alist[2:]) / len(alist[2:])} lbs.')\n",
        "  except ZeroDivisionError:\n",
        "    print('List alist  is empty!')\n",
        "\n",
        "if __name__ == \"__main__\":\n",
        "  try:\n",
        "    n = int(input('Enter size of list: '))\n",
        "    alist = getValues(n)\n",
        "    calcAverage(alist)\n",
        "  except ValueError:\n",
        "    print('Cannot cast to int().')"
      ],
      "metadata": {
        "colab": {
          "base_uri": "https://localhost:8080/"
        },
        "id": "2xb9t-9EWfBB",
        "outputId": "e8db12d6-7eb9-4b63-998a-e4d5a69812d9"
      },
      "execution_count": null,
      "outputs": [
        {
          "output_type": "stream",
          "name": "stdout",
          "text": [
            "Enter size of list: 0\n",
            "List alist  is empty!\n"
          ]
        }
      ]
    },
    {
      "cell_type": "code",
      "source": [
        "class Greeting:\n",
        "  def __init__(self, first, last):\n",
        "    self.first = first\n",
        "    self.last = last\n",
        "  def display(self):\n",
        "    print(f'Hi {self.first}')\n",
        "\n",
        "greeting = Greeting('Donald', 'Becker')\n",
        "greeting.display()"
      ],
      "metadata": {
        "colab": {
          "base_uri": "https://localhost:8080/"
        },
        "id": "GfPbMeeDYESW",
        "outputId": "18c7e3ec-b2f8-4a7a-ef4c-4cece738705e"
      },
      "execution_count": null,
      "outputs": [
        {
          "output_type": "stream",
          "name": "stdout",
          "text": [
            "Hi Donald\n"
          ]
        }
      ]
    },
    {
      "cell_type": "code",
      "source": [
        "class Greeting:\n",
        "  def __init__(self, first, last):\n",
        "    self.first = first\n",
        "    self.last = last\n",
        "\n",
        "  def display(self, formal=False):\n",
        "    if formal:\n",
        "      print(f'Hello, {self.first} {self.last}')\n",
        "    else:\n",
        "      print(f'Hi {self.first}')\n",
        "  def __str__(self):\n",
        "    return str(self.first) + \", \" + str(self.last)\n",
        "    return \"{}, {}\".format(self.first, self.last)\n",
        "    return f'{self.first}, {self.last}'\n",
        "\n",
        "greeting = Greeting('Donald', 'Becker')\n",
        "other_greeting = Greeting('Bob', 'Dylan')\n",
        "greeting.display()\n",
        "print(greeting)\n",
        "print(other_greeting)"
      ],
      "metadata": {
        "colab": {
          "base_uri": "https://localhost:8080/"
        },
        "id": "qhKFL1-8rJbK",
        "outputId": "6c8a3e7b-89cf-4bb8-c3b4-ab24a67d314e"
      },
      "execution_count": 7,
      "outputs": [
        {
          "output_type": "stream",
          "name": "stdout",
          "text": [
            "Hi Donald\n",
            "Donald, Becker\n",
            "Bob, Dylan\n"
          ]
        }
      ]
    }
  ]
}